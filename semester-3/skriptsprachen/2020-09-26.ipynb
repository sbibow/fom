{
 "cells": [
  {
   "cell_type": "markdown",
   "metadata": {},
   "source": [
    "Inhalte:\n",
    "\n",
    "- Wiederholung Datentypen\n",
    "    - Veränderliche Datentypen (list) vs. Unveränderliche Datentypen (tuple)\n",
    "    - Operatoren\n",
    "        - x in s = Ist ein Element in der Liste?\n",
    "        - s + t = t zur Liste hinzufügen\n",
    "        - s[i:j] = Subliste von index i bis index j\n",
    "    - Methoden\n",
    "        - List.append\n",
    "        - List.insert\n",
    "        - List.extend\n",
    "        - List.remove\n",
    "        - List.pop\n",
    "        - Map.get\n",
    "        - Map.items\n",
    "        - Map.keys\n",
    "        - Map.values\n",
    "    - Set, um deppelte Elemente aus Listen zu entfernen\n",
    "- Module\n",
    "    - Zuerst benutzen von öffentlichen Modulen (math, time, random, ...)\n",
    "    - Später im Kurs auch schreiben eigener Module"
   ]
  },
  {
   "cell_type": "code",
   "execution_count": 1,
   "metadata": {},
   "outputs": [
    {
     "name": "stdout",
     "output_type": "stream",
     "text": [
      "1.2246467991473532e-16\n",
      "6.123233995736766e-17\n"
     ]
    }
   ],
   "source": [
    "# math.sin(math.pi) ä FUntioniert nicht, weil unbekannt\n",
    "\n",
    "import math\n",
    "print(math.sin(math.pi))\n",
    "print(math.cos(0.5*math.pi))"
   ]
  },
  {
   "cell_type": "code",
   "execution_count": 2,
   "metadata": {},
   "outputs": [
    {
     "name": "stdout",
     "output_type": "stream",
     "text": [
      "Zufälliger Seed 0.03685338681049777\n",
      "Zufälliger Seed 0.8716939363458874\n",
      "\n",
      "Seed 1 0.13436424411240122\n",
      "Seed 1 0.8474337369372327\n",
      "Seed 1 0.763774618976614\n",
      "\n",
      "Seed 1 0.13436424411240122\n",
      "Seed 1 0.8474337369372327\n",
      "Seed 1 0.763774618976614\n",
      "\n",
      "Seed 2 0.9560342718892494\n",
      "Seed 2 0.9478274870593494\n",
      "Seed 2 0.05655136772680869\n",
      "\n"
     ]
    }
   ],
   "source": [
    "import random\n",
    "random.seed() # Eine neue zufällige Sequenz\n",
    "print(\"Zufälliger Seed\", random.random())\n",
    "print(\"Zufälliger Seed\", random.random())\n",
    "print()\n",
    "random.seed(1) # Einen konkreten Seed festelegen, gut zum debuggen\n",
    "print(\"Seed 1\", random.random())\n",
    "print(\"Seed 1\", random.random())\n",
    "print(\"Seed 1\", random.random())\n",
    "print()\n",
    "random.seed(1) # Einen konkreten Seed festelegen, gut zum debuggen\n",
    "print(\"Seed 1\", random.random())\n",
    "print(\"Seed 1\", random.random())\n",
    "print(\"Seed 1\", random.random())\n",
    "print()\n",
    "random.seed(2) # Ist *nicht* das gleiche wie seed(1) und einmal random aufrufen\n",
    "print(\"Seed 2\", random.random())\n",
    "print(\"Seed 2\", random.random())\n",
    "print(\"Seed 2\", random.random())\n",
    "print()\n"
   ]
  },
  {
   "cell_type": "code",
   "execution_count": 3,
   "metadata": {},
   "outputs": [
    {
     "name": "stdout",
     "output_type": "stream",
     "text": [
      "18\n",
      "46\n",
      "14\n",
      "26\n",
      "16\n",
      "\n",
      "18\n",
      "46\n",
      "14\n",
      "26\n",
      "14\n",
      "\n",
      "\n"
     ]
    }
   ],
   "source": [
    "random.seed(1)\n",
    "# Zufallszahlen in zweierschritten\n",
    "print(random.randrange(10,55,2))\n",
    "print(random.randrange(10,55,2))\n",
    "print(random.randrange(10,55,2))\n",
    "print(random.randrange(10,55,2))\n",
    "print(random.randrange(10,55,2))\n",
    "print()\n",
    "random.seed(1)\n",
    "# Zufallszahlen in viererschritten\n",
    "print(random.randrange(10,55,4))\n",
    "print(random.randrange(10,55,4))\n",
    "print(random.randrange(10,55,4))\n",
    "print(random.randrange(10,55,4))\n",
    "print(random.randrange(10,55,4))\n",
    "print()\n",
    "print()"
   ]
  },
  {
   "cell_type": "markdown",
   "metadata": {},
   "source": [
    "# Erzeuge eine Liste mit anzahl unikalen Zufallszahlen aus dem Bereich von 0 bis maxVal (exklusive)"
   ]
  },
  {
   "cell_type": "code",
   "execution_count": 4,
   "metadata": {},
   "outputs": [
    {
     "name": "stdout",
     "output_type": "stream",
     "text": [
      "Start\n",
      "(0, 1, 3, 4, 5, 6, 7, 8, 9, 10, 11, 12, 13, 14, 15, 16, 17, 18, 19, 20, 21, 22, 23, 24, 25, 26, 27, 28, 29, 30, 31, 32, 33, 34, 35, 36, 37, 38, 39, 40, 41, 42, 43, 44, 45, 46, 47, 48, 49, 50, 51, 52, 53, 54, 55, 56, 57, 58, 59, 60, 61, 62, 63, 64, 65, 66, 67, 68, 69, 70, 71, 72, 73, 74, 75, 76, 77, 78, 79, 80, 81, 82, 83, 84, 85, 86, 87, 88, 89, 90, 91, 92, 93, 94, 95, 96, 97, 98, 99, 100)\n",
      "Stop 0.06777620315551758\n"
     ]
    }
   ],
   "source": [
    "# Meine 1. Lösung == 4. Lösung\n",
    "\n",
    "import random as rnd\n",
    "import time\n",
    "\n",
    "anzahl = 9900\n",
    "maxVal = 10000\n",
    "\n",
    "print (\"Start\")\n",
    "if anzahl > maxVal:\n",
    "    raise ValueError(\"Anzahl kann nicht größer als maxVal sein.\")\n",
    "\n",
    "t0 = time.time()\n",
    "menge = set()\n",
    "while len(menge) < anzahl:\n",
    "    menge.add(rnd.randrange(maxVal))\n",
    "\n",
    "print(tuple(menge)[:100]) # Nachteil, weil Zahlen sortiert sind\n",
    "print (\"Stop\", time.time() - t0)"
   ]
  },
  {
   "cell_type": "code",
   "execution_count": 5,
   "metadata": {},
   "outputs": [
    {
     "name": "stdout",
     "output_type": "stream",
     "text": [
      "Start\n",
      "(226849, 618033, 87210, 293915, 516110, 714760, 926746, 801696, 513551, 207759, 968501, 794349, 248190, 879772, 991047, 487083, 819007, 82788, 98744, 375818, 308379, 643282, 885950, 765115, 488829, 636094, 483661, 564582, 153806, 119594, 421478, 199411, 781504, 252262, 998130, 165402, 770730, 722920, 244929, 944898, 427610, 595249, 6372, 492153, 483765, 30070, 220654, 724264, 442591, 474672, 507289, 448949, 73503, 313676, 474838, 978600, 533893, 457866, 767828, 26927, 429848, 874867, 509419, 813601, 691097, 704770, 78782, 110087, 117377, 801327, 752162, 355136, 506783, 593949, 78199, 466434, 236370, 578455, 843927, 501862, 97369, 162126, 890505, 336575, 35808, 990781, 228923, 9209, 428208, 993998, 953251, 894830, 253806, 696256, 606598, 726846, 403692, 172076, 119752, 220449)\n",
      "Stop 1.177812099456787\n"
     ]
    }
   ],
   "source": [
    "# Meine 2. Lösung == 5. Lösung\n",
    "\n",
    "import random as rnd\n",
    "import time\n",
    "\n",
    "anzahl = 990000\n",
    "maxVal = 1000000\n",
    "\n",
    "print (\"Start\")\n",
    "if anzahl > maxVal:\n",
    "    raise ValueError(\"Anzahl kann nicht größer als maxVal sein.\")\n",
    "\n",
    "t0 = time.time()\n",
    "menge = tuple(rnd.sample(range(maxVal), anzahl))\n",
    "\n",
    "print(menge[:100])\n",
    "print (\"Stop\", time.time() - t0)"
   ]
  },
  {
   "cell_type": "code",
   "execution_count": 6,
   "metadata": {},
   "outputs": [
    {
     "name": "stdout",
     "output_type": "stream",
     "text": [
      "Start\n",
      "[3310, 1176, 9901, 5727, 3438, 5023, 890, 1730, 2424, 9603, 573, 8778, 9013, 9855, 41, 2134, 7740, 896, 3479, 3095, 818, 3067, 7780, 4835, 6743, 7704, 9383, 7955, 3082, 5744, 8956, 9208, 8818, 3084, 5681, 4374, 6463, 1966, 9747, 3353, 691, 6645, 3388, 7084, 6822, 6563, 5925, 5607, 7928, 1718, 626, 9073, 4477, 215, 7797, 4571, 2860, 8545, 3382, 5856, 8648, 1025, 3536, 990, 628, 1700, 8817, 6210, 8197, 7630, 6851, 685, 4492, 5264, 3251, 1687, 636, 2405, 3958, 7686, 4426, 6673, 555, 7739, 1871, 1758, 6911, 7833, 9521, 1379, 8464, 3144, 4592, 9476, 9393, 9952, 610, 859, 7007, 5261]\n",
      "Stop 4.349540948867798\n"
     ]
    }
   ],
   "source": [
    "# 1. Lösung - prozedural / imperativ\n",
    "import random as rnd\n",
    "import time\n",
    "\n",
    "anzahl = 9900\n",
    "maxVal = 10000\n",
    "print (\"Start\")\n",
    "t0 = time.time()\n",
    "\n",
    "zl = list()\n",
    "\n",
    "i = 0\n",
    "while i < anzahl:\n",
    "    zahl = rnd.randrange(maxVal)\n",
    "    if zahl not in zl:\n",
    "        zl.append(zahl)\n",
    "        i+=1\n",
    "\n",
    "print(zl[:100])\n",
    "print (\"Stop\", time.time() - t0)"
   ]
  },
  {
   "cell_type": "code",
   "execution_count": 7,
   "metadata": {},
   "outputs": [
    {
     "name": "stdout",
     "output_type": "stream",
     "text": [
      "Start\n",
      "[3466, 9963, 4320, 7652, 7207, 5972, 2211, 8040, 1640, 6573, 488, 7005, 8874, 796, 4286, 9498, 7702, 9443, 483, 876, 5367, 2582, 6944, 8746, 9826, 6174, 7104, 7366, 2041, 1796, 6826, 6650, 6013, 477, 3626, 9459, 40, 8311, 1771, 7598, 1086, 4641, 7279, 8749, 3925, 6630, 4800, 3636, 3814, 7225, 4625, 6816, 6765, 6007, 1659, 6205, 5973, 879, 4118, 6920, 5653, 8689, 8166, 6168, 1113, 919, 9556, 9374, 1492, 9053, 7770, 8702, 6704, 2536, 9208, 8783, 6949, 7315, 9346, 991, 6728, 1475, 5811, 6610, 5051, 8425, 1440, 7987, 1573, 2289, 1789, 1571, 2438, 1623, 4058, 1524, 5167, 4189, 3570, 6126]\n",
      "Stop 4.076345920562744\n"
     ]
    }
   ],
   "source": [
    "# 2. Lösung - prozedural / imperativ ohne extra variable\n",
    "import random as rnd\n",
    "import time\n",
    "\n",
    "anzahl = 9900\n",
    "maxVal = 10000\n",
    "\n",
    "print (\"Start\")\n",
    "t0 = time.time()\n",
    "\n",
    "zl = list()\n",
    "\n",
    "while len(zl) < anzahl:\n",
    "    zahl = rnd.randrange(maxVal)\n",
    "    if zahl not in zl:\n",
    "        zl.append(zahl)\n",
    "\n",
    "print(zl[:100])\n",
    "print (\"Stop\", time.time() - t0)"
   ]
  },
  {
   "cell_type": "code",
   "execution_count": 8,
   "metadata": {},
   "outputs": [
    {
     "name": "stdout",
     "output_type": "stream",
     "text": [
      "Start\n",
      "[3724, 4478, 7065, 5151, 8218, 4769, 3117, 6292, 7115, 643, 4814, 3049, 1413, 1658, 2755, 8188, 3561, 7588, 6663, 182, 6515, 3654, 1872, 4395, 773, 1954, 9673, 3812, 2138, 2864, 5786, 8678, 8969, 7663, 9649, 3705, 9363, 6148, 4726, 8960, 5603, 346, 8681, 8775, 6216, 2718, 80, 8028, 987, 4659, 903, 3592, 8025, 7082, 2527, 5917, 859, 8800, 7195, 1833, 1337, 6593, 3213, 3655, 4146, 463, 8662, 8586, 8905, 8046, 904, 269, 86, 1778, 5875, 7825, 3622, 5328, 3196, 7630, 2023, 6319, 9595, 1451, 5043, 55, 8671, 3784, 6056, 1787, 8361, 6187, 7052, 1364, 3636, 3342, 2230, 1404, 9171, 5598]\n",
      "Stop 0.06775283813476562\n"
     ]
    }
   ],
   "source": [
    "# 3. Lösung - prozedural / imperativ - schneller\n",
    "import random as rnd\n",
    "import time\n",
    "\n",
    "anzahl = 9900\n",
    "maxVal = 10000\n",
    "\n",
    "print (\"Start\")\n",
    "t0 = time.time()\n",
    "\n",
    "zl = list()\n",
    "bl = [False] * maxVal\n",
    "\n",
    "while len(zl) < anzahl:\n",
    "    zahl = rnd.randrange(maxVal)\n",
    "    if not bl[zahl]:\n",
    "        zl.append(zahl)\n",
    "        bl[zahl] = True\n",
    "\n",
    "print(zl[:100])\n",
    "print (\"Stop\", time.time() - t0)"
   ]
  },
  {
   "cell_type": "code",
   "execution_count": 9,
   "metadata": {},
   "outputs": [
    {
     "name": "stdout",
     "output_type": "stream",
     "text": [
      "Start\n",
      "[9946, 6088, 1710, 534, 4462, 6296, 23, 9701, 9166, 3505, 8263, 5000, 9495, 319, 2911, 3330, 4625, 6760, 413, 3391, 4307, 5242, 9481, 1635, 4323, 6387, 1893, 9892, 5621, 3279, 3396, 9929, 8476, 4866, 5835, 3757, 6476, 9815, 5331, 5902, 237, 9003, 9774, 2602, 219, 1964, 4579, 1620, 2389, 3431, 7104, 6559, 1972, 2163, 9764, 865, 1123, 9812, 7358, 2266, 3698, 1210, 1665, 6458, 6756, 8357, 6865, 430, 8636, 339, 6013, 6597, 2356, 3916, 9879, 1286, 5452, 1882, 9741, 9916, 4327, 9811, 7449, 8811, 5930, 7503, 8422, 262, 520, 5392, 5521, 4398, 784, 2207, 4828, 9749, 7199, 1187, 84, 9291]\n",
      "Stop 0.01065373420715332\n"
     ]
    }
   ],
   "source": [
    "# Lösung 6\n",
    "import random as rnd\n",
    "import time\n",
    "\n",
    "anzahl = 9900\n",
    "maxVal = 10000\n",
    "\n",
    "print (\"Start\")\n",
    "t0 = time.time()\n",
    "\n",
    "zl = list(range(maxVal))\n",
    "rnd.shuffle(zl)\n",
    "zl = zl[:anzahl]\n",
    "\n",
    "\n",
    "print(zl[:100])\n",
    "print (\"Stop\", time.time() - t0)"
   ]
  },
  {
   "cell_type": "markdown",
   "metadata": {},
   "source": [
    "# Textanalyse\n",
    "\n",
    "Aufgaben\n",
    "- Lies jede Zeile ein und gib diese über print aus\n",
    "- Schreibe jede Zeile in eine Liste\n",
    "- Wie viele Zeilen hat die Datei?\n",
    "- Einige Zeilen sind ohne sichtbare Zeichen, entferne diese Zeilen aus der Liste. Hinweis: Diese Zeilen können an ihrer Länge erkannt werden.\n",
    "- Wie viele Zeilen bleiben bereinigt übrig?\n",
    "- Wie viele Wörter sind im Text? Hinweis: Es gibt für einen String die Funktion split(), z. B. \"Diese Aussage ist falsch.\".split()\n",
    "- Wie viele Wörter von jeder vorkommenden Wortlänge sind im Text vorhanden (Histogramm, verbal)?"
   ]
  },
  {
   "cell_type": "code",
   "execution_count": 12,
   "metadata": {},
   "outputs": [
    {
     "name": "stdout",
     "output_type": "stream",
     "text": [
      "\n",
      "Anzahl der Zeilen 25737\n",
      "\n",
      "Anzahl der nicht leeren Zeilen 13074\n",
      "\n",
      "Anzahl der Wörter 171864\n",
      "\n"
     ]
    },
    {
     "data": {
      "text/plain": [
       "<AxesSubplot:>"
      ]
     },
     "execution_count": 12,
     "metadata": {},
     "output_type": "execute_result"
    },
    {
     "data": {
      "image/png": "[encoded data removed]",
      "text/plain": [
       "<Figure size 432x288 with 1 Axes>"
      ]
     },
     "metadata": {
      "needs_background": "light"
     },
     "output_type": "display_data"
    }
   ],
   "source": [
    "f = open(\"moby.txt\", \"rt\")\n",
    "l = list()\n",
    "for line in f:\n",
    "    # Aufgabe 1; auskommentiert, weil lang\n",
    "    # print(line)\n",
    "    \n",
    "    # Aufgabe 2\n",
    "    l.append(line)\n",
    "f.close() # Datei schliessen (guter Ton)\n",
    "\n",
    "# Aufgabe 3\n",
    "print()\n",
    "print(\"Anzahl der Zeilen\", len(l))\n",
    "\n",
    "# Aufgabe 4 & 5\n",
    "print()\n",
    "clean_l = tuple(filter(lambda line: len(line) != 1, l))\n",
    "print(\"Anzahl der nicht leeren Zeilen\", len(clean_l))\n",
    "\n",
    "# Aufgabe 6\n",
    "print()\n",
    "words_unflattened = tuple(map(lambda line: line.split(\" \"), clean_l))\n",
    "words = tuple([word for line in words_unflattened for word in line])\n",
    "print(\"Anzahl der Wörter\", len(words))\n",
    "\n",
    "# Aufgabe 7\n",
    "print()\n",
    "word_hist = dict()\n",
    "for word in words:\n",
    "    word_hist[word] = word_hist.get(word, 0) + 1\n",
    "\n",
    "import pandas as pd\n",
    "s = pd.Series(word_hist).sort_values(ascending=False).head(20)\n",
    "s.cumsum()\n",
    "s.plot.bar()"
   ]
  }
 ],
 "metadata": {
  "kernelspec": {
   "display_name": "'Python Interactive'",
   "language": "python",
   "name": "bce28ea5-65b4-4f76-a1ac-c28cf20a85c3"
  },
  "language_info": {
   "codemirror_mode": {
    "name": "ipython",
    "version": 3
   },
   "file_extension": ".py",
   "mimetype": "text/x-python",
   "name": "python",
   "nbconvert_exporter": "python",
   "pygments_lexer": "ipython3",
   "version": "3.7.9"
  }
 },
 "nbformat": 4,
 "nbformat_minor": 4
}
