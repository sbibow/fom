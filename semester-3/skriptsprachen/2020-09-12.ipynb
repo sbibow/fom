{
 "cells": [
  {
   "cell_type": "markdown",
   "metadata": {},
   "source": [
    "# Vorlesung vom 2020-09-12\n"
   ]
  },
  {
   "cell_type": "markdown",
   "metadata": {},
   "source": [
    "## Was sind Skripte?\n",
    "\n",
    "### Beispiele\n",
    "\n",
    "- Konzeptpapier\n",
    "- Unterrichtsbegleitende Schrift\n",
    "- Unbewusstes \"Programm\" nam dem ein Individuum lebt\n",
    "- Drehbuch\n",
    "- Unix-Programm oder interpretierbare Befehle einer Skriptsprache\n",
    "\n",
    "### Gemeinsamkeiten\n",
    "\n",
    "- Um das Große Ganze zu lösen, ohne die Details zu haben\n",
    "- Hohes/Abstraktes Konzept\n",
    "- Definition eines Verfahrensablaufes\n",
    "\n",
    "### Besonderheiten Skriptsprachen\n",
    "\n",
    "- Wird nicht kompiliert, sondern interpretiert; Recht langsam\n",
    "\n",
    "## Programmieren\n",
    "\n",
    "- Was ist der Zweck des Programmierens?\n",
    "- Was ist ein Algorithmus?\n",
    "  - Anweisungen, die ein Problem lösen und nach endlicher Zeit terminieren\n",
    "- Was sind die Arbeitsschritte?\n",
    "- Welche Hilfsmittel/Werkzeuge finden Anwendung?\n",
    "- Warum sind die Arbeitsschritte notwendig?\n",
    "- Wichtig: Eigenschaften einer Programmiersprache beeinflussen die Form der Lösung\n",
    "  - Immer die richtige Programmiersprache für die Lösung des Problems wählen\n",
    "\n",
    "## Vor und Nachteile von Interpretierten und Kompilierten Sprachen\n",
    "\n",
    "|        | Interpretiert                  | Kompiliert                                |\n",
    "| ------ | ------------------------------ | ----------------------------------------- |\n",
    "| Pro    | Man hat den Source Code direkt | Höhere Performance, mehr Prüfungen        |\n",
    "| Contra | Benötigt runtime               | Kann auf IC und Prozessoren direkt laufen |\n",
    "\n",
    "- Skriptsprachen sind dafür geschrieben, Anwendungen zu schreiben, die wenige Programmzeilen hat\n",
    "- Häufiger Anwendungsfall: Skriptsprachen für Business Logik, das dann kompilierte Sprachen aufruft, das die technischen Details implementiert\n",
    "\n",
    "## Datenstrukturen\n",
    "\n",
    "- Zwei Arten\n",
    "  - Listen\n",
    "  - Maps\n",
    "- Algorithmen und Datenstrukturen müssen gemeinsam entwickelt/genutzt werden\n",
    "\n",
    "## Was macht eine Skriptsprache zur Skriptsprache\n",
    "\n",
    "- Keine eindeutlige Definition\n",
    "  - \"Man erkennt es, wenn man es sieht\"\n",
    "  - Es geht eher um Prinzipien und Paradigment\n"
   ]
  },
  {
   "cell_type": "markdown",
   "metadata": {},
   "source": [
    "# Nun zur Praxis\n",
    "\n",
    "## Python als Taschenrechner nutzen"
   ]
  },
  {
   "cell_type": "code",
   "execution_count": 1,
   "metadata": {},
   "outputs": [
    {
     "name": "stdout",
     "output_type": "stream",
     "text": [
      "3+8   = 11\n",
      "5-9   = -4\n",
      "5*3   = 15\n",
      "53/6  = 8.833333333333334\n",
      "53//6 = 8\n",
      "23%4  = 3\n",
      "2**4  = 16\n",
      "+5    = 5\n",
      "-5    = -5\n"
     ]
    }
   ],
   "source": [
    "print(\"3+8   =\", 3+8)\n",
    "print(\"5-9   =\", 5-9)\n",
    "print(\"5*3   =\", 5*3)\n",
    "print(\"53/6  =\", 53/6)\n",
    "print(\"53//6 =\", 53//6)\n",
    "print(\"23%4  =\", 23%4)\n",
    "print(\"2**4  =\", 2**4)\n",
    "print(\"+5    =\", +5)\n",
    "print(\"-5    =\", -5)"
   ]
  },
  {
   "cell_type": "code",
   "execution_count": 2,
   "metadata": {},
   "outputs": [
    {
     "name": "stdout",
     "output_type": "stream",
     "text": [
      "56\n"
     ]
    }
   ],
   "source": [
    "a=7\n",
    "b=8\n",
    "print(a * b)"
   ]
  },
  {
   "cell_type": "code",
   "execution_count": 3,
   "metadata": {},
   "outputs": [
    {
     "name": "stdout",
     "output_type": "stream",
     "text": [
      "19950631168807583848837421626835850838234968318861924548520089498529438830221946631919961684036194597899331129423209124271556491349413781117593785932096323957855730046793794526765246551266059895520550086918193311542508608460618104685509074866089624888090489894838009253941633257850621568309473902556912388065225096643874441046759871626985453222868538161694315775629640762836880760732228535091641476183956381458969463899410840960536267821064621427333394036525565649530603142680234969400335934316651459297773279665775606172582031407994198179607378245683762280037302885487251900834464581454650557929601414833921615734588139257095379769119277800826957735674444123062018757836325502728323789270710373802866393031428133241401624195671690574061419654342324638801248856147305207431992259611796250130992860241708340807605932320161268492288496255841312844061536738951487114256315111089745514203313820202931640957596464756010405845841566072044962867016515061920631004186422275908670900574606417856951911456055068251250406007519842261898059237118054444788072906395242548339221982707404473162376760846613033778706039803413197133493654622700563169937455508241780972810983291314403571877524768509857276937926433221599399876886660808368837838027643282775172273657572744784112294389733810861607423253291974813120197604178281965697475898164531258434135959862784130128185406283476649088690521047580882615823961985770122407044330583075869039319604603404973156583208672105913300903752823415539745394397715257455290510212310947321610753474825740775273986348298498340756937955646638621874569499279016572103701364433135817214311791398222983845847334440270964182851005072927748364550578634501100852987812389473928699540834346158807043959118985815145779177143619698728131459483783202081474982171858011389071228250905826817436220577475921417653715687725614904582904992461028630081535583308130101987675856234343538955409175623400844887526162643568648833519463720377293240094456246923254350400678027273837755376406726898636241037491410966718557050759098100246789880178271925953381282421954028302759408448955014676668389697996886241636313376393903373455801407636741877711055384225739499110186468219696581651485130494222369947714763069155468217682876200362777257723781365331611196811280792669481887201298643660768551639860534602297871557517947385246369446923087894265948217008051120322365496288169035739121368338393591756418733850510970271613915439590991598154654417336311656936031122249937969999226781732358023111862644575299135758175008199839236284615249881088960232244362173771618086357015468484058622329792853875623486556440536962622018963571028812361567512543338303270029097668650568557157505516727518899194129711337690149916181315171544007728650573189557450920330185304847113818315407324053319038462084036421763703911550639789000742853672196280903477974533320468368795868580237952218629120080742819551317948157624448298518461509704888027274721574688131594750409732115080498190455803416826949787141316063210686391511681774304792596709376\n"
     ]
    }
   ],
   "source": [
    "# Python kann bei Ganzzahlen mit sehr großen Zahlen genau rechnen\n",
    "print(2 ** 10000)"
   ]
  },
  {
   "cell_type": "code",
   "execution_count": 4,
   "metadata": {},
   "outputs": [
    {
     "name": "stdout",
     "output_type": "stream",
     "text": [
      "342226\n",
      "878455\n",
      "548925\n",
      "326466\n"
     ]
    }
   ],
   "source": [
    "# Zahlenformate\n",
    "print(0o1234322)\n",
    "print(0b11010110011101110111)\n",
    "print(548925)\n",
    "print(0x4fb42)"
   ]
  },
  {
   "cell_type": "code",
   "execution_count": 5,
   "metadata": {},
   "outputs": [
    {
     "name": "stdout",
     "output_type": "stream",
     "text": [
      "<class 'float'>\n",
      "<class 'float'>\n",
      "<class 'float'>\n"
     ]
    }
   ],
   "source": [
    "# Fließkommazahlen erzeugen\n",
    "a = 0.6\n",
    "print(type(a))\n",
    "b = 2.0\n",
    "print(type(b))\n",
    "c = 2.\n",
    "print(type(c))"
   ]
  },
  {
   "cell_type": "code",
   "execution_count": 6,
   "metadata": {},
   "outputs": [
    {
     "name": "stdout",
     "output_type": "stream",
     "text": [
      "inf\n",
      "-inf\n",
      "nan\n"
     ]
    }
   ],
   "source": [
    "# Besondere Fließkommazahlen\n",
    "\n",
    "## Infinity\n",
    "print(float(\"inf\"))\n",
    "print(float(\"-inf\"))\n",
    "\n",
    "# NaN (Not a Number)\n",
    "print(float('nan'))"
   ]
  },
  {
   "cell_type": "markdown",
   "metadata": {},
   "source": [
    "# Strings und Ausgaben in Python"
   ]
  },
  {
   "cell_type": "code",
   "execution_count": 7,
   "metadata": {},
   "outputs": [
    {
     "name": "stdout",
     "output_type": "stream",
     "text": [
      "Hello, World!\n",
      "Hello, World!\n",
      "Hello, World!\n"
     ]
    }
   ],
   "source": [
    "#Ausgabe mit print\n",
    "print(\"Hello, World!\")\n",
    "\n",
    "# Print mit mehreren Argumenten\n",
    "print (\"Hello,\", \"World!\")\n",
    "\n",
    "# Bei mehreren Argumenten mit anderen Zeichen trennen\n",
    "print(\"Hello\", \"World!\", sep=\", \")"
   ]
  },
  {
   "cell_type": "code",
   "execution_count": 8,
   "metadata": {},
   "outputs": [
    {
     "name": "stdout",
     "output_type": "stream",
     "text": [
      "Hello, world\n",
      "nananananananananananananananananananananananananananananana Batman!\n"
     ]
    }
   ],
   "source": [
    "# Strings \"addieren\" und \"multiplizieren\"\n",
    "print(\"Hello, \" + \"world\")\n",
    "print(30*\"na\", \"Batman!\")"
   ]
  },
  {
   "cell_type": "markdown",
   "metadata": {},
   "source": [
    "# Variablen"
   ]
  },
  {
   "cell_type": "code",
   "execution_count": 9,
   "metadata": {},
   "outputs": [],
   "source": [
    "# Variablen starten mit Unterstrich oder Buchstabe, danach Buchstabe, Unterstrich oder Zahl\n",
    "a=\"a\"\n",
    "_fs2j=\"stuff\"\n",
    "aö=\"Hello\""
   ]
  },
  {
   "cell_type": "code",
   "execution_count": 10,
   "metadata": {},
   "outputs": [
    {
     "name": "stdout",
     "output_type": "stream",
     "text": [
      "None\n",
      "<class 'NoneType'>\n"
     ]
    }
   ],
   "source": [
    "# \"Nichts\"-Wert in Python\n",
    "# Ist so wie null in anderen Sprachen\n",
    "print(None)\n",
    "print(type(None))"
   ]
  },
  {
   "cell_type": "code",
   "execution_count": 11,
   "metadata": {},
   "outputs": [
    {
     "name": "stdout",
     "output_type": "stream",
     "text": [
      "<class 'bool'>\n",
      "<class 'int'>\n",
      "<class 'float'>\n",
      "<class 'complex'>\n"
     ]
    }
   ],
   "source": [
    "#Andere Typen\n",
    "print(bool)\n",
    "print(int)\n",
    "print(float)\n",
    "print(complex)"
   ]
  },
  {
   "cell_type": "markdown",
   "metadata": {},
   "source": [
    "# Hausaufgaben bis zum nächsten Mal\n",
    "\n",
    "- Foliensatz 030 durchgehen und ein bisschen ausprobieren"
   ]
  }
 ],
 "metadata": {
  "kernelspec": {
   "display_name": "Python 3",
   "language": "python",
   "name": "python3"
  },
  "language_info": {
   "codemirror_mode": {
    "name": "ipython",
    "version": 3
   },
   "file_extension": ".py",
   "mimetype": "text/x-python",
   "name": "python",
   "nbconvert_exporter": "python",
   "pygments_lexer": "ipython3",
   "version": "3.8.5"
  }
 },
 "nbformat": 4,
 "nbformat_minor": 4
}
