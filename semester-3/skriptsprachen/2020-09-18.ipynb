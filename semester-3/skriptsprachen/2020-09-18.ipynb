{
 "cells": [
  {
   "cell_type": "markdown",
   "metadata": {},
   "source": [
    "# Vorlesung vom 2020-09-18\n",
    "\n",
    "Themen:\n",
    "- Python Skripte\n",
    "- Kommentare\n",
    "- Variables und Typen"
   ]
  },
  {
   "cell_type": "markdown",
   "metadata": {},
   "source": [
    "## Python Skripte\n",
    "\n",
    "- Werden in einer Datei gespeichert (.py Endung ist Konvention)\n",
    "- Übersetzungsphase entfällt\n",
    "    - Es ist irrelevant, ob die Datei angegeben wird, oder man alle einzelnen Zeilen der Datei in der python shell eingibt\n",
    "- Fehler werden erst während der Laufzeit gefunden"
   ]
  },
  {
   "cell_type": "code",
   "execution_count": 1,
   "metadata": {},
   "outputs": [
    {
     "name": "stdout",
     "output_type": "stream",
     "text": [
      "<class 'str'>\n",
      "<class 'str'>\n"
     ]
    }
   ],
   "source": [
    "# Kommentieren von einzelnen Linien mit Raute\n",
    "a = 1 # Zeilenkommentare auch nach Anweisungen möglich\n",
    "\n",
    "# Mehrzeilen Kommentare gibt es an sich nicht, man kann\n",
    "# aber einfache Strings und mehrzeilige Strings benutzen,\n",
    "# weil diese nicht ausgeführt werden:\n",
    "# https://twitter.com/gvanrossum/status/112670605505077248\n",
    "\n",
    "'Ein String kann als Kommentar genutzt werden'\n",
    "\n",
    "'''\n",
    "Mehrzeilige Strings sind mit drei Anführungzeichen möglich und\n",
    "können als Kommentar genutzt werden.\n",
    "'''\n",
    "\n",
    "\"\"\"\n",
    "Doppelte Anführungszeichen funktionieren auch...\n",
    "Zweite Zeile test...\n",
    "\"\"\"\n",
    "\n",
    "# Es sind aber noch normale Strings\n",
    "print(type('Test'))\n",
    "print(type('''\n",
    "Mehrzeiliger Test\n",
    "'''))"
   ]
  },
  {
   "cell_type": "code",
   "execution_count": 2,
   "metadata": {},
   "outputs": [
    {
     "name": "stdout",
     "output_type": "stream",
     "text": [
      "<class 'int'>\n",
      "<class 'str'>\n",
      "<class 'float'>\n",
      "<class 'complex'>\n",
      "<class 'NoneType'>\n"
     ]
    }
   ],
   "source": [
    "# Variablen speichern veränderliche Werte\n",
    "# Zuweisung mit dem Gleichzeichen \"=\"\n",
    "var1 = 1 # Neue Variable\n",
    "var2 = 2 # Neue Variable\n",
    "var1 = 1 # Variable wird geänder\n",
    "Var2 = 2 # Neue Variable, weil python case-sensitive ist\n",
    "\n",
    "# Datentypen\n",
    "print(type(1))\n",
    "print(type(\"a\"))\n",
    "print(type(1.5))\n",
    "print(type(2j+5))\n",
    "print(type(None))"
   ]
  },
  {
   "cell_type": "code",
   "execution_count": 3,
   "metadata": {},
   "outputs": [
    {
     "name": "stdout",
     "output_type": "stream",
     "text": [
      "bit      =  10\n",
      "~bit     =  -11\n",
      "bit << 1 =  20\n",
      "bit >> 2 =  2\n",
      "bit & 11 =  10\n",
      "bit | 5  =  15\n",
      "bit ^ 3  =  9\n",
      "0b1010\n",
      "0o12\n",
      "10\n",
      "0xa\n"
     ]
    }
   ],
   "source": [
    "# Arbeiten auf Bit Ebene\n",
    "bit = 0b001010 # binäre zahl erstellen mit \"0b\"\n",
    "print(\"bit      = \", bit)\n",
    "print(\"~bit     = \", ~bit) # Komplement\n",
    "print(\"bit << 1 = \", bit << 1) # Linksverschieben\n",
    "print(\"bit >> 2 = \", bit >> 2) # Rechtsverschieben\n",
    "print(\"bit & 11 = \", bit & 11) # Und\n",
    "print(\"bit | 5  = \", bit | 5) # Oder\n",
    "print(\"bit ^ 3  = \", bit ^ 3) # XOR\n",
    "\n",
    "# Ausgabe in anderen Zahlensystemen\n",
    "print(bin(bit))\n",
    "print(oct(bit))\n",
    "print(bit) # Decimal ist standard\n",
    "print(hex(bit))"
   ]
  },
  {
   "cell_type": "code",
   "execution_count": 4,
   "metadata": {},
   "outputs": [
    {
     "name": "stdout",
     "output_type": "stream",
     "text": [
      "True  = True\n",
      "False = False\n"
     ]
    }
   ],
   "source": [
    "# Wahrheitswerte\n",
    "print(\"True  =\", True) # Muss groß geschrieben werden\n",
    "print(\"False =\", False) # Muss groß geschrieben werden"
   ]
  },
  {
   "cell_type": "code",
   "execution_count": 5,
   "metadata": {},
   "outputs": [
    {
     "name": "stdout",
     "output_type": "stream",
     "text": [
      "1 > 2  = False\n",
      "1 < 2  = True\n",
      "2 < 2  = False\n",
      "2 <= 2 = True\n",
      "6 >= 2 = True\n",
      "1 == 2 = False\n",
      "1 != 2 = True\n"
     ]
    }
   ],
   "source": [
    "# Vergleiche\n",
    "print(\"1 > 2  =\", 1 > 2) # False\n",
    "print(\"1 < 2  =\", 1 < 2) # True\n",
    "print(\"2 < 2  =\", 2 < 2) # False\n",
    "print(\"2 <= 2 =\", 2 <= 2) # True\n",
    "print(\"6 >= 2 =\", 6 >= 2) # True\n",
    "print(\"1 == 2 =\", 1 == 2) # False\n",
    "print(\"1 != 2 =\", 1 != 2) # True"
   ]
  },
  {
   "cell_type": "code",
   "execution_count": 6,
   "metadata": {},
   "outputs": [
    {
     "name": "stdout",
     "output_type": "stream",
     "text": [
      "not True       = False\n",
      "not False      = True\n",
      "True and False = False\n",
      "True and True  = True\n",
      "False or False = False\n",
      "True or False  = True\n"
     ]
    }
   ],
   "source": [
    "# Logische Verküpfungen\n",
    "print(\"not True       =\", not True) # False\n",
    "print(\"not False      =\", not False) # True\n",
    "print(\"True and False =\", True and False) # False\n",
    "print(\"True and True  =\", True and True) # True\n",
    "print(\"False or False =\", False or False) # False\n",
    "print(\"True or False  =\", True or False) # True"
   ]
  },
  {
   "cell_type": "code",
   "execution_count": 7,
   "metadata": {},
   "outputs": [
    {
     "name": "stdout",
     "output_type": "stream",
     "text": [
      "True or False and False   = True\n",
      "(True or False) and False = False\n"
     ]
    }
   ],
   "source": [
    "# Operator Priorität\n",
    "# Zuerst and, dann or\n",
    "print(\"True or False and False   =\", True or False and False) # True\n",
    "print(\"(True or False) and False =\", (True or False) and False) # False\n",
    "# Am besten immer Klammern setzen, damit der Code lesbar bleibt"
   ]
  },
  {
   "cell_type": "markdown",
   "metadata": {},
   "source": [
    "## Sequentielle Datentypen"
   ]
  },
  {
   "cell_type": "code",
   "execution_count": 8,
   "metadata": {},
   "outputs": [
    {
     "name": "stdout",
     "output_type": "stream",
     "text": [
      "[]\n",
      "[1, 2]\n",
      "['k', 5]\n"
     ]
    }
   ],
   "source": [
    "print([]) # Leere Liste\n",
    "print([1,2]) # Liste mit Werten\n",
    "print([\"k\",5]) # Kann unterschiedliche Typen beinhalten"
   ]
  },
  {
   "cell_type": "code",
   "execution_count": 9,
   "metadata": {},
   "outputs": [
    {
     "name": "stdout",
     "output_type": "stream",
     "text": [
      "\n"
     ]
    }
   ],
   "source": [
    "print(\"\") # Zeichenkette, unveränderlich"
   ]
  },
  {
   "cell_type": "code",
   "execution_count": 10,
   "metadata": {},
   "outputs": [
    {
     "name": "stdout",
     "output_type": "stream",
     "text": [
      "()\n",
      "(1, 2)\n",
      "('k', 2)\n"
     ]
    }
   ],
   "source": [
    "print(()) # Touple, unveränderlich\n",
    "print((1,2))\n",
    "print((\"k\",2))"
   ]
  },
  {
   "cell_type": "code",
   "execution_count": 11,
   "metadata": {},
   "outputs": [
    {
     "name": "stdout",
     "output_type": "stream",
     "text": [
      "b'Hallo Welt'\n"
     ]
    }
   ],
   "source": [
    "print(b\"Hallo Welt\") # Sequenz von Bytes, unveränderlich"
   ]
  },
  {
   "cell_type": "code",
   "execution_count": 12,
   "metadata": {},
   "outputs": [
    {
     "name": "stdout",
     "output_type": "stream",
     "text": [
      "True\n",
      "False\n"
     ]
    }
   ],
   "source": [
    "print(1 in [1,2,3]) # True\n",
    "print(1 in [2,3,4]) # False"
   ]
  },
  {
   "cell_type": "code",
   "execution_count": 13,
   "metadata": {},
   "outputs": [
    {
     "name": "stdout",
     "output_type": "stream",
     "text": [
      "[1, 2, 3, 4]\n",
      "[1, 2, 3, 'v', 'i', 'e', 'r']\n"
     ]
    }
   ],
   "source": [
    "print([1,2]+[3,4]) # Plus für verkettungen\n",
    "\n",
    "li = [1,2,3] \n",
    "li += 'vier'\n",
    "# Aber nicht li = li + 'vier', weil Fehler\n",
    "print(li) # String ist eine liste von chars"
   ]
  },
  {
   "cell_type": "code",
   "execution_count": 14,
   "metadata": {},
   "outputs": [
    {
     "name": "stdout",
     "output_type": "stream",
     "text": [
      "1\n",
      "[2, 3]\n",
      "[2, 3, 4, 5, 6, 7, 8, 9]\n",
      "[1, 3, 5, 7, 9]\n"
     ]
    }
   ],
   "source": [
    "li = list(range(1,10))\n",
    "print(li[0]) # Zugriff auf Element in der Liste\n",
    "print(li[1:3]) # Slicing, Gibt 2,3 aus, weil dritter index exclusive ist\n",
    "print(li[1:]) # nichts heißt bis zum ende\n",
    "print(li[::2]) # in Zweierschritten ausgeben"
   ]
  },
  {
   "cell_type": "code",
   "execution_count": 15,
   "metadata": {},
   "outputs": [
    {
     "name": "stdout",
     "output_type": "stream",
     "text": [
      "[1, 2, 3, 4, 5, 6, 7, 8, 9]\n",
      "[9, 8, 7, 6, 5, 4, 3, 2, 1]\n"
     ]
    }
   ],
   "source": [
    "# Achtung bei listen, weil veränderlich\n",
    "li = list(range(1,10))\n",
    "print(li)\n",
    "li.reverse()\n",
    "print(li)"
   ]
  },
  {
   "cell_type": "code",
   "execution_count": 16,
   "metadata": {},
   "outputs": [
    {
     "name": "stdout",
     "output_type": "stream",
     "text": [
      "True\n",
      "True\n",
      "\n",
      "Time for lookup of 5: 0.7258999347686768s\n",
      "\n",
      "Time for lookup of 99999999: 1.5395159721374512s\n"
     ]
    }
   ],
   "source": [
    "import time\n",
    "li = list(range(0,100000000))\n",
    "start = time.time()\n",
    "print(5 in li) # Geht schnell, weil am start der liste gefunden\n",
    "mid = time.time()\n",
    "print(99999999 in li) # Dauert lange, weil er jedes Listenelement überprüft\n",
    "end = time.time()\n",
    "print(f\"\\nTime for lookup of 5: {mid-start}s\")\n",
    "print(f\"\\nTime for lookup of 99999999: {end-mid}s\")"
   ]
  },
  {
   "cell_type": "markdown",
   "metadata": {},
   "source": [
    "## Dictionaries / Maps / Tables"
   ]
  },
  {
   "cell_type": "code",
   "execution_count": 17,
   "metadata": {},
   "outputs": [
    {
     "name": "stdout",
     "output_type": "stream",
     "text": [
      "English\n",
      "{'en': 'English', 'de': 'Deutsch', 'fr': 'Français', 'es': 'Español'}\n",
      "dict_keys(['en', 'de', 'fr', 'es'])\n",
      "dict_values(['English', 'Deutsch', 'Français', 'Español'])\n"
     ]
    }
   ],
   "source": [
    "languages = {\"en\": \"English\", \"de\": \"Deutsch\", \"fr\": \"Français\"}\n",
    "print(languages[\"en\"])\n",
    "languages[\"es\"] = \"Español\"\n",
    "print(languages)\n",
    "print(languages.keys())\n",
    "print(languages.values())"
   ]
  },
  {
   "cell_type": "code",
   "execution_count": 18,
   "metadata": {},
   "outputs": [
    {
     "name": "stdout",
     "output_type": "stream",
     "text": [
      "1\n",
      "1\n",
      "None\n",
      "default\n",
      "1\n"
     ]
    }
   ],
   "source": [
    "dic = {\"a\": 1, \"b\": 2, \"c\": \"d\"}\n",
    "print(dic[\"a\"])\n",
    "print(dic.get(\"a\"))\n",
    "\n",
    "#print(dic[\"y\"]) # Funktioniert nicht\n",
    "print(dic.get(\"y\")) # Gibt None zurück\n",
    "\n",
    "print(dic.get(\"y\", \"default\")) # Kann default zurückgeben, wenn Wert nicht gefunden\n",
    "print(dic.get(\"a\", \"default\")) # Gibt aber Wert zurück, wenn er vorhanden ist"
   ]
  },
  {
   "cell_type": "code",
   "execution_count": 19,
   "metadata": {},
   "outputs": [
    {
     "name": "stdout",
     "output_type": "stream",
     "text": [
      "{'en': 'English', 'de': 'Deutsch', 'fr': 'Français', 'es': 'Español'}\n",
      "{'English': 'en', 'Deutsch': 'de', 'Français': 'fr', 'Español': 'es'}\n"
     ]
    }
   ],
   "source": [
    "# Key und Value paare tauschen\n",
    "\n",
    "languages = {\"en\": \"English\", \"de\": \"Deutsch\", \"fr\": \"Français\", \"es\": \"Español\"}\n",
    "languages_rev = dict((v,k) for k,v in languages.items())\n",
    "\n",
    "print(languages)\n",
    "print(languages_rev)"
   ]
  }
 ],
 "metadata": {
  "kernelspec": {
   "display_name": "Python 3",
   "language": "python",
   "name": "python3"
  },
  "language_info": {
   "codemirror_mode": {
    "name": "ipython",
    "version": 3
   },
   "file_extension": ".py",
   "mimetype": "text/x-python",
   "name": "python",
   "nbconvert_exporter": "python",
   "pygments_lexer": "ipython3",
   "version": "3.8.5"
  }
 },
 "nbformat": 4,
 "nbformat_minor": 4
}
