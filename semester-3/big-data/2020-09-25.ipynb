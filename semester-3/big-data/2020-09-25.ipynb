{
 "cells": [
  {
   "cell_type": "markdown",
   "metadata": {},
   "source": [
    "# Erste Vorlesung\n",
    "\n",
    "- Vorstellung des Dozenten\n",
    "- Vorstellung der Studenten\n",
    "- Was ist Big Data?"
   ]
  },
  {
   "cell_type": "markdown",
   "metadata": {},
   "source": [
    "## Was ist Big Data\n",
    "\n",
    "- Als Bereich schon seit mehreren Jahrzehnten; doch erst duch Datenexplosion im letzten Jahrzehnt bekannt und profitabel werden\n",
    "- Ziel des Moduls: Grundlagen der Data Science vermitteln\n",
    "- Zeigen welches Tool für welchen Anwendungsfall geeignet ist\n",
    "- Datensätze\n",
    "    - Rossmann Umsatz\n",
    "    - Flutginien der USA\n",
    "    - Titanik\n",
    "    - Twitter, und andere social Networks\n",
    "    - Eigene Datensätze\n",
    "    \n",
    "### Arbeitsmarktrelevanz\n",
    "\n",
    "- Viele Unternehmen haben in irgendeiner Form mit Big Data zu tun\n",
    "- Menge der unstrukturierten Daten nimmt zu\n",
    "- Unternehmen, die mit Daten umgehen können, haben einen Wettbewersvorteil\n",
    "\n",
    "### Welche Industries/Brachen sind von AI/Big Data betroffen?`\n",
    "\n",
    "- E-Commerce\n",
    "- Transport\n",
    "- Statistik\n",
    "- Medizin\n",
    "- Produktion\n",
    "- Logistik\n",
    "- Customer Relationship Management\n",
    "- Digitale Asistenten\n",
    "- Energieeversorgung\n",
    "- Betriebswirtschaft und Planung\n",
    "- Kostenmanagement\n",
    "- Überwachung\n",
    "- Robo Adsviser (Finanz)\n",
    "- Literatur (Archivierung)\n",
    "- Banking Finance\n",
    "\n",
    "### Datenzyklus\n",
    "\n",
    "1. Sammeln\n",
    "1. Ermitteln\n",
    "    1. Prognose\n",
    "    1. Modell\n",
    "    1. Prognose\n",
    "1. Steuern\n",
    "\n",
    "### The four V of Big Data\n",
    "\n",
    "\n",
    "Wenn einer dieser Begriffe ein Problem beschreibt, kann Big Data hilfreich sein:\n",
    "\n",
    "- Volume\n",
    "- Variety\n",
    "- Velocity\n",
    "- Veracity (Uncertainty)"
   ]
  },
  {
   "cell_type": "markdown",
   "metadata": {},
   "source": [
    "## Welche der vier V passen auf den Begriff Literatur?\n",
    "\n",
    "### Volume\n",
    "\n",
    "- Viele Bücher in Bibliotheken (bspw. 50 Mio. in NY Public Library, 1 Mio in London Library)\n",
    "\n",
    "### Variety\n",
    "\n",
    "- Viele Sprachen, und Zeichensätze\n",
    "- Keine Einheitliche Größe oder Format (Shcritrolle, hard-cover, taschenbuch, loose seiten)\n",
    "\n",
    "### Velocity - NA\n",
    "\n",
    "### Veracity\n",
    "\n",
    "- An sich sind Daten vertrauenswürdig, seltene Bücher könnten Seiten fehlen\n",
    "- Schrift nicht mehr lesbar"
   ]
  },
  {
   "cell_type": "markdown",
   "metadata": {},
   "source": [
    "- Data Scientist\n",
    "- ML engineer\n",
    "- AI architect\n",
    "\n",
    "\n",
    "- [Big Data Lansscape 2019 from Metttruck](http://mattturck.com/wp-content/uploads/2019/07/2019_Matt_Turck_Big_Data_Landscape_Final_Fullsize.png)\n",
    "\n",
    "- Beschreibende Analyse\n",
    "    - Was ist passiert und warum?\n",
    "    - Bsp. Untersuchung von Kaufverhalten\n",
    "- Echtzeit-Analyse\n",
    "    - Was passiert in diesem Moment?\n",
    "    - Betrugserkennung, E-Commerce\n",
    "- Prädiktive Analyse\n",
    "    - Was wird als nächstes passieren?\n",
    "    - Kredit-Scorebereich, Wettervorhersage"
   ]
  },
  {
   "cell_type": "markdown",
   "metadata": {},
   "source": [
    "- Descriptive\n",
    "    - Was ist passiert?\n",
    "- Predictive\n",
    "    - Was wird passieren?\n",
    "- Prescriptive\n",
    "    - Was sollen wir tun?"
   ]
  },
  {
   "cell_type": "markdown",
   "metadata": {},
   "source": [
    "## Big Data und Businness Intelligence\n",
    "\n",
    "- Nicht das selbe, aber ähnlich\n",
    "\n",
    "- BI\n",
    "    - Nur Untermenden der Daten\n",
    "    - Eher historisch\n",
    "    - Eher strukturierte Daten\n",
    "    - Datenmenge ist Problem\n",
    "- BD\n",
    "    - Alle Daten\n",
    "    - Unstrukturierte bzw. semi-strukturierte Daten\n",
    "    - Datenmenge ist Wettbewerbsvorteil\n",
    "    \n",
    "## Data Science\n",
    "\n",
    "- Kombintaiton von\n",
    "    - Math and Statistics\n",
    "    - Computer Science\n",
    "    - Domain Knowledge"
   ]
  },
  {
   "cell_type": "markdown",
   "metadata": {},
   "source": [
    "## Datenschutz und gesellschaftliche Verantwortung\n",
    "\n",
    "- Datenschutz: Personenbezogene Daten"
   ]
  },
  {
   "cell_type": "markdown",
   "metadata": {},
   "source": [
    "# Hausaufgabe\n",
    "\n",
    "- Öffentliche Firmendaten mitnehmen, an denen man selbst rumspielt\n",
    "    - Format CSV, oder naderes, das einfach zu parsen ist (Mail kommt dazu noch)"
   ]
  },
  {
   "cell_type": "code",
   "execution_count": null,
   "metadata": {},
   "outputs": [],
   "source": []
  }
 ],
 "metadata": {
  "kernelspec": {
   "display_name": "Python 3",
   "language": "python",
   "name": "python3"
  },
  "language_info": {
   "codemirror_mode": {
    "name": "ipython",
    "version": 3
   },
   "file_extension": ".py",
   "mimetype": "text/x-python",
   "name": "python",
   "nbconvert_exporter": "python",
   "pygments_lexer": "ipython3",
   "version": "3.8.5"
  }
 },
 "nbformat": 4,
 "nbformat_minor": 4
}
